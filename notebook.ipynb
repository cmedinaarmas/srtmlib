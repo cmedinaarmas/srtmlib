{
 "cells": [
  {
   "cell_type": "code",
   "execution_count": 1,
   "metadata": {},
   "outputs": [],
   "source": [
    "import sys;sys.path.insert(0,'/home/cm/Documents/srtm/')\n",
    "import srtmlib as srtm"
   ]
  },
  {
   "cell_type": "code",
   "execution_count": 2,
   "metadata": {},
   "outputs": [],
   "source": [
    "import matplotlib.pyplot as plt\n",
    "import matplotlib.image as mpimg\n",
    "import pandas as pd\n",
    "import numpy as np\n",
    "%matplotlib inline"
   ]
  },
  {
   "cell_type": "code",
   "execution_count": 3,
   "metadata": {},
   "outputs": [],
   "source": [
    "srtm.plot"
   ]
  },
  {
   "cell_type": "code",
   "execution_count": 15,
   "metadata": {},
   "outputs": [],
   "source": [
    "from matplotlib.colors import LightSource\n",
    "def plot(heights, filemane, cmap='gray', deg=90, alt=45, show=True):\n",
    "    ls = LightSource(azdeg=deg, altdeg=alt)\n",
    "    sizes = np.shape(heights)\n",
    "    height = float(sizes[0])\n",
    "    width = float(sizes[1])\n",
    "\n",
    "    fig = plt.figure()\n",
    "    fig.set_size_inches(width/height, 1, forward=False)\n",
    "    ax = plt.Axes(fig, [0., 0., 1., 1.])\n",
    "    ax.set_axis_off()\n",
    "    fig.add_axes(ax)\n",
    "    \n",
    "    shaded = ls.hillshade(heights.astype('float'), vert_exag=0.2)\n",
    "    ax.imshow(shaded, cmap=cmap)\n",
    "    plt.savefig(filemane, dpi = height) \n",
    "#     plt.show()\n",
    "#     if show:\n",
    "#         plt.show()\n",
    "#     else:\n",
    "#         plt.savefig(fn, dpi = height) \n",
    "# plt.savefig(fn, dpi = 180) \n",
    "#     plt.close()"
   ]
  },
  {
   "cell_type": "markdown",
   "metadata": {},
   "source": [
    "# TEST MOSAIC"
   ]
  },
  {
   "cell_type": "code",
   "execution_count": 5,
   "metadata": {},
   "outputs": [
    {
     "name": "stdout",
     "output_type": "stream",
     "text": [
      "Exploring /home/cm/Documents/cm/srtm/srtmlib/data/sample/\n",
      "n45_w123_1arc_v3.bil  FOUND\n",
      "n45_w122_1arc_v3.bil  FOUND\n",
      "n46_w123_1arc_v3.bil  FOUND\n",
      "n46_w122_1arc_v3.bil  FOUND\n",
      "n47_w123_1arc_v3.bil  FOUND\n",
      "n47_w122_1arc_v3.bil  FOUND\n",
      "-------\n",
      "██\n",
      "██\n",
      "██\n",
      "-------\n",
      "{'n45_w122_1arc_v3.bil': [2, 1], 'n47_w123_1arc_v3.bil': [0, 0], 'n45_w123_1arc_v3.bil': [2, 0], 'n47_w122_1arc_v3.bil': [0, 1], 'n46_w122_1arc_v3.bil': [1, 1], 'n46_w123_1arc_v3.bil': [1, 0]}\n"
     ]
    }
   ],
   "source": [
    "# path = '/home/cm/Documents/cm/srtm/srtmlib/data/everest/'\n",
    "path = '/home/cm/Documents/cm/srtm/srtmlib/data/sample/'\n",
    "# path = '/home/cm/Documents/cm/srtm/srtmlib/data/guadaloupe/'\n",
    "m = srtm.Mosaic(path)\n",
    "m.read_dir()\n",
    "m.build_bil_set()\n",
    "m.mosaic_print_structure()\n",
    "m.load_tiles()\n",
    "m.merge_tiles()\n",
    "\n",
    "print(m.tile_positions)"
   ]
  },
  {
   "cell_type": "code",
   "execution_count": 6,
   "metadata": {},
   "outputs": [
    {
     "data": {
      "text/plain": [
       "(10800, 7200)"
      ]
     },
     "execution_count": 6,
     "metadata": {},
     "output_type": "execute_result"
    }
   ],
   "source": [
    "h = m.data\n",
    "h.shape\n",
    "print(h.max())\n",
    "h[h > 8900] = 0\n",
    "print(h.max())"
   ]
  },
  {
   "cell_type": "code",
   "execution_count": null,
   "metadata": {},
   "outputs": [],
   "source": [
    "plot(h,'/home/cm/Desktop/sample_map.png')"
   ]
  },
  {
   "cell_type": "markdown",
   "metadata": {},
   "source": [
    "# TEST TILE"
   ]
  },
  {
   "cell_type": "code",
   "execution_count": null,
   "metadata": {},
   "outputs": [],
   "source": [
    "data = '/home/cm/Documents/cm/srtm/srtmlib/data/everest/n27_e086_1arc_v3.bil'\n",
    "b = srtm.Tile(data,1,0,0)\n",
    "b.load_data(wrapped=False)\n",
    "h = b.heights\n",
    "print(b.src_file)\n",
    "print(h.shape)"
   ]
  },
  {
   "cell_type": "code",
   "execution_count": null,
   "metadata": {},
   "outputs": [],
   "source": [
    "print(h.max())\n",
    "h[h > 8900] = 0\n",
    "print(h.max())"
   ]
  },
  {
   "cell_type": "code",
   "execution_count": null,
   "metadata": {},
   "outputs": [],
   "source": [
    "save_image(h,'gray','/home/cm/Desktop/map.png',show=True)"
   ]
  },
  {
   "cell_type": "code",
   "execution_count": null,
   "metadata": {},
   "outputs": [],
   "source": [
    "sub =  h[0:100,0:100]"
   ]
  },
  {
   "cell_type": "code",
   "execution_count": null,
   "metadata": {},
   "outputs": [],
   "source": [
    "save_image(sub,'gray','/home/cm/Desktop/map.png',show=True)"
   ]
  },
  {
   "cell_type": "code",
   "execution_count": null,
   "metadata": {},
   "outputs": [],
   "source": [
    "\n",
    "fig = plt.figure(figsize=(20,20))\n",
    "ax1 = fig.add_subplot(111)\n",
    "\n",
    "plt.show()"
   ]
  }
 ],
 "metadata": {
  "anaconda-cloud": {},
  "kernelspec": {
   "display_name": "Python 3",
   "language": "python",
   "name": "python3"
  },
  "language_info": {
   "codemirror_mode": {
    "name": "ipython",
    "version": 3
   },
   "file_extension": ".py",
   "mimetype": "text/x-python",
   "name": "python",
   "nbconvert_exporter": "python",
   "pygments_lexer": "ipython3",
   "version": "3.5.5"
  }
 },
 "nbformat": 4,
 "nbformat_minor": 2
}
