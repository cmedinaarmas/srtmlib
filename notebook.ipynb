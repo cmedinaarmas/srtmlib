{
 "cells": [
  {
   "cell_type": "code",
   "execution_count": 1,
   "metadata": {},
   "outputs": [],
   "source": [
    "import sys;sys.path.insert(0,'/home/cm/Documents/srtm/')\n",
    "import srtmlib as srtm"
   ]
  },
  {
   "cell_type": "code",
   "execution_count": 2,
   "metadata": {},
   "outputs": [],
   "source": [
    "import matplotlib.pyplot as plt\n",
    "import matplotlib.image as mpimg\n",
    "import pandas as pd\n",
    "import numpy as np\n",
    "%matplotlib inline"
   ]
  },
  {
   "cell_type": "code",
   "execution_count": 3,
   "metadata": {},
   "outputs": [
    {
     "name": "stdout",
     "output_type": "stream",
     "text": [
      "/home/cm/Documents/cm/srtm/srtmlib/data/everest/n27_e086_1arc_v3.bil\n",
      "(3601, 3601)\n"
     ]
    }
   ],
   "source": [
    "data = '/home/cm/Documents/cm/srtm/srtmlib/data/everest/n27_e086_1arc_v3.bil'\n",
    "# data = 'data/guadaloupe/n15_w062_3arc_v2.bil'\n",
    "b = srtm.Tile(data,1,0)\n",
    "b.load_data(wrapped=False)\n",
    "h = b.heights\n",
    "print(b.src_file)\n",
    "print(h.shape)"
   ]
  },
  {
   "cell_type": "code",
   "execution_count": 4,
   "metadata": {},
   "outputs": [
    {
     "name": "stdout",
     "output_type": "stream",
     "text": [
      "8833\n",
      "8480\n"
     ]
    }
   ],
   "source": [
    "print(h.max())\n",
    "h_clip=np.clip(h,0,8480)\n",
    "print(h_clip.max())"
   ]
  },
  {
   "cell_type": "code",
   "execution_count": 5,
   "metadata": {},
   "outputs": [],
   "source": [
    "def save_image(data, cm, fn):\n",
    "   \n",
    "    sizes = np.shape(data)\n",
    "    height = float(sizes[0])\n",
    "    width = float(sizes[1])\n",
    "     \n",
    "    fig = plt.figure()\n",
    "    fig.set_size_inches(width/height, 1, forward=False)\n",
    "    ax = plt.Axes(fig, [0., 0., 1., 1.])\n",
    "    ax.set_axis_off()\n",
    "    fig.add_axes(ax)\n",
    " \n",
    "    ax.imshow(data, cmap=cm)\n",
    "    plt.savefig(fn, dpi = height) \n",
    "    plt.close()"
   ]
  },
  {
   "cell_type": "code",
   "execution_count": 6,
   "metadata": {},
   "outputs": [],
   "source": [
    "save_image(h,'gray','/home/cm/Desktop/map.png')\n",
    "\n",
    "# fig=plt.figure(figsize=(10,10))\n",
    "# plt.imshow(h_clip,cmap='inferno')\n",
    "# plt.axis('off')\n",
    "# plt.show()"
   ]
  }
 ],
 "metadata": {
  "anaconda-cloud": {},
  "kernelspec": {
   "display_name": "Python [default]",
   "language": "python",
   "name": "python3"
  },
  "language_info": {
   "codemirror_mode": {
    "name": "ipython",
    "version": 3
   },
   "file_extension": ".py",
   "mimetype": "text/x-python",
   "name": "python",
   "nbconvert_exporter": "python",
   "pygments_lexer": "ipython3",
   "version": "3.5.5"
  }
 },
 "nbformat": 4,
 "nbformat_minor": 2
}
